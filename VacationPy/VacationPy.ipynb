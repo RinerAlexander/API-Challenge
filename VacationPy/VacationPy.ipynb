{
 "cells": [
  {
   "cell_type": "markdown",
   "metadata": {},
   "source": [
    "# VacationPy\n",
    "----\n",
    "\n",
    "#### Note\n",
    "* Keep an eye on your API usage. Use https://developers.google.com/maps/reporting/gmp-reporting as reference for how to monitor your usage and billing.\n",
    "\n",
    "* Instructions have been included for each segment. You do not have to follow them exactly, but they are included to help you think through the steps."
   ]
  },
  {
   "cell_type": "code",
   "execution_count": 1,
   "metadata": {},
   "outputs": [],
   "source": [
    "# Dependencies and Setup\n",
    "import matplotlib.pyplot as plt\n",
    "import pandas as pd\n",
    "import numpy as np\n",
    "import requests\n",
    "import gmaps\n",
    "import os\n",
    "from pprint import pprint\n",
    "\n",
    "# Import API key\n",
    "from keys import g_key"
   ]
  },
  {
   "cell_type": "markdown",
   "metadata": {},
   "source": [
    "### Store Part I results into DataFrame\n",
    "* Load the csv exported in Part I to a DataFrame"
   ]
  },
  {
   "cell_type": "code",
   "execution_count": 2,
   "metadata": {},
   "outputs": [],
   "source": [
    "file = os.path.join(\"..\",\"WeatherPy\",\"City_Weather.csv\")\n",
    "cityDF=pd.read_csv(file)\n"
   ]
  },
  {
   "cell_type": "markdown",
   "metadata": {},
   "source": [
    "### Humidity Heatmap\n",
    "* Configure gmaps.\n",
    "* Use the Lat and Lng as locations and Humidity as the weight.\n",
    "* Add Heatmap layer to map."
   ]
  },
  {
   "cell_type": "code",
   "execution_count": 3,
   "metadata": {},
   "outputs": [],
   "source": [
    "gmaps.configure(api_key=g_key)"
   ]
  },
  {
   "cell_type": "code",
   "execution_count": 4,
   "metadata": {},
   "outputs": [
    {
     "data": {
      "application/vnd.jupyter.widget-view+json": {
       "model_id": "165789d575524bf08b1ca349db61cf3e",
       "version_major": 2,
       "version_minor": 0
      },
      "text/plain": [
       "Figure(layout=FigureLayout(height='420px'))"
      ]
     },
     "metadata": {},
     "output_type": "display_data"
    }
   ],
   "source": [
    "locations = cityDF[[\"Lat\", \"Lng\"]]\n",
    "humidity = cityDF[\"Humidity\"]\n",
    "\n",
    "fig = gmaps.figure()\n",
    "heat_layer = gmaps.heatmap_layer(locations, weights=humidity, \n",
    "                                 dissipating=False, max_intensity=100,\n",
    "                                 point_radius=0.9)\n",
    "fig.add_layer(heat_layer)\n",
    "fig"
   ]
  },
  {
   "cell_type": "markdown",
   "metadata": {},
   "source": [
    "### Create new DataFrame fitting weather criteria\n",
    "* Narrow down the cities to fit weather conditions.\n",
    "* Drop any rows will null values."
   ]
  },
  {
   "cell_type": "code",
   "execution_count": 5,
   "metadata": {},
   "outputs": [
    {
     "data": {
      "text/html": [
       "<div>\n",
       "<style scoped>\n",
       "    .dataframe tbody tr th:only-of-type {\n",
       "        vertical-align: middle;\n",
       "    }\n",
       "\n",
       "    .dataframe tbody tr th {\n",
       "        vertical-align: top;\n",
       "    }\n",
       "\n",
       "    .dataframe thead th {\n",
       "        text-align: right;\n",
       "    }\n",
       "</style>\n",
       "<table border=\"1\" class=\"dataframe\">\n",
       "  <thead>\n",
       "    <tr style=\"text-align: right;\">\n",
       "      <th></th>\n",
       "      <th>City</th>\n",
       "      <th>Cloudiness</th>\n",
       "      <th>Country</th>\n",
       "      <th>Date</th>\n",
       "      <th>Humidity</th>\n",
       "      <th>Lat</th>\n",
       "      <th>Lng</th>\n",
       "      <th>Max Temp</th>\n",
       "      <th>Wind Speed</th>\n",
       "    </tr>\n",
       "  </thead>\n",
       "  <tbody>\n",
       "    <tr>\n",
       "      <th>10</th>\n",
       "      <td>bam</td>\n",
       "      <td>0.0</td>\n",
       "      <td>ir</td>\n",
       "      <td>1.600283e+09</td>\n",
       "      <td>18.0</td>\n",
       "      <td>29.106000</td>\n",
       "      <td>58.357000</td>\n",
       "      <td>74.14</td>\n",
       "      <td>13.35</td>\n",
       "    </tr>\n",
       "    <tr>\n",
       "      <th>45</th>\n",
       "      <td>oshakati</td>\n",
       "      <td>0.0</td>\n",
       "      <td>na</td>\n",
       "      <td>1.600283e+09</td>\n",
       "      <td>11.0</td>\n",
       "      <td>-17.783333</td>\n",
       "      <td>15.683333</td>\n",
       "      <td>73.40</td>\n",
       "      <td>2.24</td>\n",
       "    </tr>\n",
       "    <tr>\n",
       "      <th>110</th>\n",
       "      <td>indiana</td>\n",
       "      <td>1.0</td>\n",
       "      <td>us</td>\n",
       "      <td>1.600283e+09</td>\n",
       "      <td>36.0</td>\n",
       "      <td>40.621389</td>\n",
       "      <td>-79.152778</td>\n",
       "      <td>78.01</td>\n",
       "      <td>4.70</td>\n",
       "    </tr>\n",
       "    <tr>\n",
       "      <th>115</th>\n",
       "      <td>dumesti</td>\n",
       "      <td>0.0</td>\n",
       "      <td>ro</td>\n",
       "      <td>1.600283e+09</td>\n",
       "      <td>31.0</td>\n",
       "      <td>46.850000</td>\n",
       "      <td>27.283333</td>\n",
       "      <td>78.80</td>\n",
       "      <td>5.82</td>\n",
       "    </tr>\n",
       "    <tr>\n",
       "      <th>120</th>\n",
       "      <td>poland</td>\n",
       "      <td>1.0</td>\n",
       "      <td>us</td>\n",
       "      <td>1.600283e+09</td>\n",
       "      <td>38.0</td>\n",
       "      <td>44.060556</td>\n",
       "      <td>-70.394167</td>\n",
       "      <td>73.99</td>\n",
       "      <td>17.22</td>\n",
       "    </tr>\n",
       "    <tr>\n",
       "      <th>212</th>\n",
       "      <td>samaipata</td>\n",
       "      <td>0.0</td>\n",
       "      <td>bo</td>\n",
       "      <td>1.600283e+09</td>\n",
       "      <td>33.0</td>\n",
       "      <td>-18.150000</td>\n",
       "      <td>-63.866667</td>\n",
       "      <td>75.90</td>\n",
       "      <td>11.97</td>\n",
       "    </tr>\n",
       "    <tr>\n",
       "      <th>304</th>\n",
       "      <td>comarapa</td>\n",
       "      <td>0.0</td>\n",
       "      <td>bo</td>\n",
       "      <td>1.600283e+09</td>\n",
       "      <td>35.0</td>\n",
       "      <td>-17.900000</td>\n",
       "      <td>-64.483333</td>\n",
       "      <td>75.69</td>\n",
       "      <td>11.18</td>\n",
       "    </tr>\n",
       "    <tr>\n",
       "      <th>372</th>\n",
       "      <td>vostan</td>\n",
       "      <td>0.0</td>\n",
       "      <td>am</td>\n",
       "      <td>1.600283e+09</td>\n",
       "      <td>34.0</td>\n",
       "      <td>39.958889</td>\n",
       "      <td>44.559167</td>\n",
       "      <td>78.80</td>\n",
       "      <td>16.11</td>\n",
       "    </tr>\n",
       "    <tr>\n",
       "      <th>390</th>\n",
       "      <td>qarchak</td>\n",
       "      <td>0.0</td>\n",
       "      <td>ir</td>\n",
       "      <td>1.600283e+09</td>\n",
       "      <td>29.0</td>\n",
       "      <td>35.439444</td>\n",
       "      <td>51.568889</td>\n",
       "      <td>75.20</td>\n",
       "      <td>4.70</td>\n",
       "    </tr>\n",
       "  </tbody>\n",
       "</table>\n",
       "</div>"
      ],
      "text/plain": [
       "          City  Cloudiness Country          Date  Humidity        Lat  \\\n",
       "10         bam         0.0      ir  1.600283e+09      18.0  29.106000   \n",
       "45    oshakati         0.0      na  1.600283e+09      11.0 -17.783333   \n",
       "110    indiana         1.0      us  1.600283e+09      36.0  40.621389   \n",
       "115    dumesti         0.0      ro  1.600283e+09      31.0  46.850000   \n",
       "120     poland         1.0      us  1.600283e+09      38.0  44.060556   \n",
       "212  samaipata         0.0      bo  1.600283e+09      33.0 -18.150000   \n",
       "304   comarapa         0.0      bo  1.600283e+09      35.0 -17.900000   \n",
       "372     vostan         0.0      am  1.600283e+09      34.0  39.958889   \n",
       "390    qarchak         0.0      ir  1.600283e+09      29.0  35.439444   \n",
       "\n",
       "           Lng  Max Temp  Wind Speed  \n",
       "10   58.357000     74.14       13.35  \n",
       "45   15.683333     73.40        2.24  \n",
       "110 -79.152778     78.01        4.70  \n",
       "115  27.283333     78.80        5.82  \n",
       "120 -70.394167     73.99       17.22  \n",
       "212 -63.866667     75.90       11.97  \n",
       "304 -64.483333     75.69       11.18  \n",
       "372  44.559167     78.80       16.11  \n",
       "390  51.568889     75.20        4.70  "
      ]
     },
     "execution_count": 5,
     "metadata": {},
     "output_type": "execute_result"
    }
   ],
   "source": [
    "narrowDF=cityDF[cityDF[\"Humidity\"]<40]\n",
    "narrowDF=narrowDF[narrowDF[\"Max Temp\"]<79]\n",
    "narrowDF=narrowDF[narrowDF[\"Max Temp\"]>70]\n",
    "narrowDF=narrowDF[narrowDF[\"Cloudiness\"]<70]\n",
    "narrowDF"
   ]
  },
  {
   "cell_type": "markdown",
   "metadata": {},
   "source": [
    "### Hotel Map\n",
    "* Store into variable named `hotel_df`.\n",
    "* Add a \"Hotel Name\" column to the DataFrame.\n",
    "* Set parameters to search for hotels with 5000 meters.\n",
    "* Hit the Google Places API for each city's coordinates.\n",
    "* Store the first Hotel result into the DataFrame.\n",
    "* Plot markers on top of the heatmap."
   ]
  },
  {
   "cell_type": "code",
   "execution_count": 6,
   "metadata": {},
   "outputs": [
    {
     "data": {
      "text/html": [
       "<div>\n",
       "<style scoped>\n",
       "    .dataframe tbody tr th:only-of-type {\n",
       "        vertical-align: middle;\n",
       "    }\n",
       "\n",
       "    .dataframe tbody tr th {\n",
       "        vertical-align: top;\n",
       "    }\n",
       "\n",
       "    .dataframe thead th {\n",
       "        text-align: right;\n",
       "    }\n",
       "</style>\n",
       "<table border=\"1\" class=\"dataframe\">\n",
       "  <thead>\n",
       "    <tr style=\"text-align: right;\">\n",
       "      <th></th>\n",
       "      <th>City</th>\n",
       "      <th>Country</th>\n",
       "      <th>Hotel Name</th>\n",
       "      <th>Lat</th>\n",
       "      <th>Lng</th>\n",
       "    </tr>\n",
       "  </thead>\n",
       "  <tbody>\n",
       "    <tr>\n",
       "      <th>0</th>\n",
       "      <td>bam</td>\n",
       "      <td>ir</td>\n",
       "      <td>Bam Tourist Hotel</td>\n",
       "      <td>29.095207</td>\n",
       "      <td>58.356684</td>\n",
       "    </tr>\n",
       "    <tr>\n",
       "      <th>1</th>\n",
       "      <td>oshakati</td>\n",
       "      <td>na</td>\n",
       "      <td>Oshakati Guest Hotel</td>\n",
       "      <td>-17.794271</td>\n",
       "      <td>15.701723</td>\n",
       "    </tr>\n",
       "    <tr>\n",
       "      <th>2</th>\n",
       "      <td>indiana</td>\n",
       "      <td>us</td>\n",
       "      <td>Hampton Inn Indiana</td>\n",
       "      <td>40.602813</td>\n",
       "      <td>-79.181535</td>\n",
       "    </tr>\n",
       "    <tr>\n",
       "      <th>3</th>\n",
       "      <td>dumesti</td>\n",
       "      <td>ro</td>\n",
       "      <td>La trăistărie</td>\n",
       "      <td>46.828770</td>\n",
       "      <td>27.239363</td>\n",
       "    </tr>\n",
       "    <tr>\n",
       "      <th>4</th>\n",
       "      <td>poland</td>\n",
       "      <td>us</td>\n",
       "      <td>Poland Spring Resort</td>\n",
       "      <td>44.031388</td>\n",
       "      <td>-70.367463</td>\n",
       "    </tr>\n",
       "    <tr>\n",
       "      <th>5</th>\n",
       "      <td>samaipata</td>\n",
       "      <td>bo</td>\n",
       "      <td>Casa - Hostal</td>\n",
       "      <td>-18.177030</td>\n",
       "      <td>-63.873274</td>\n",
       "    </tr>\n",
       "    <tr>\n",
       "      <th>6</th>\n",
       "      <td>vostan</td>\n",
       "      <td>am</td>\n",
       "      <td>Target Shooting Club</td>\n",
       "      <td>39.945022</td>\n",
       "      <td>44.612846</td>\n",
       "    </tr>\n",
       "    <tr>\n",
       "      <th>7</th>\n",
       "      <td>qarchak</td>\n",
       "      <td>ir</td>\n",
       "      <td>Mehdi Ziaee trait</td>\n",
       "      <td>35.438361</td>\n",
       "      <td>51.570334</td>\n",
       "    </tr>\n",
       "  </tbody>\n",
       "</table>\n",
       "</div>"
      ],
      "text/plain": [
       "        City Country            Hotel Name        Lat        Lng\n",
       "0        bam      ir     Bam Tourist Hotel  29.095207  58.356684\n",
       "1   oshakati      na  Oshakati Guest Hotel -17.794271  15.701723\n",
       "2    indiana      us   Hampton Inn Indiana  40.602813 -79.181535\n",
       "3    dumesti      ro         La trăistărie  46.828770  27.239363\n",
       "4     poland      us  Poland Spring Resort  44.031388 -70.367463\n",
       "5  samaipata      bo         Casa - Hostal -18.177030 -63.873274\n",
       "6     vostan      am  Target Shooting Club  39.945022  44.612846\n",
       "7    qarchak      ir     Mehdi Ziaee trait  35.438361  51.570334"
      ]
     },
     "execution_count": 6,
     "metadata": {},
     "output_type": "execute_result"
    }
   ],
   "source": [
    "hotel_df=pd.DataFrame()\n",
    "for index,row in narrowDF.iterrows():\n",
    "    \n",
    "    target_location = str(row[\"Lat\"])+\",\"+str(row[\"Lng\"])\n",
    "    target_radius = 5000\n",
    "    target_type = \"lodging\"\n",
    "    \n",
    "    base_url = \"https://maps.googleapis.com/maps/api/place/nearbysearch/json\"\n",
    "    params = {\n",
    "        \"location\": target_location,\n",
    "        \"radius\": target_radius,\n",
    "        \"type\": target_type,\n",
    "        \"key\": g_key\n",
    "    }\n",
    "    response = requests.get(base_url, params=params).json()\n",
    "    try:\n",
    "        hotelName=response[\"results\"][0][\"name\"]\n",
    "    except IndexError:\n",
    "        continue\n",
    "    lat=response[\"results\"][0][\"geometry\"][\"location\"][\"lat\"]\n",
    "    lng=response[\"results\"][0][\"geometry\"][\"location\"][\"lng\"]\n",
    "    hotel_df=hotel_df.append({\"Hotel Name\":hotelName,\"City\":row[\"City\"],\"Country\":row[\"Country\"],\"Lat\":lat,\"Lng\":lng},ignore_index=True)\n",
    "    \n",
    "hotel_df"
   ]
  },
  {
   "cell_type": "code",
   "execution_count": null,
   "metadata": {},
   "outputs": [],
   "source": []
  },
  {
   "cell_type": "code",
   "execution_count": 10,
   "metadata": {
    "scrolled": true
   },
   "outputs": [],
   "source": [
    "# NOTE: Do not change any of the code in this cell\n",
    "\n",
    "# Using the template add the hotel marks to the heatmap\n",
    "info_box_template = \"\"\"\n",
    "<dl>\n",
    "<dt>Name</dt><dd>{Hotel Name}</dd>\n",
    "<dt>City</dt><dd>{City}</dd>\n",
    "<dt>Country</dt><dd>{Country}</dd>\n",
    "</dl>\n",
    "\"\"\"\n",
    "# Store the DataFrame Row\n",
    "# NOTE: be sure to update with your DataFrame name\n",
    "hotel_info = [info_box_template.format(**row) for index, row in hotel_df.iterrows()]\n",
    "locations = hotel_df[[\"Lat\", \"Lng\"]]"
   ]
  },
  {
   "cell_type": "code",
   "execution_count": 11,
   "metadata": {},
   "outputs": [
    {
     "data": {
      "application/vnd.jupyter.widget-view+json": {
       "model_id": "165789d575524bf08b1ca349db61cf3e",
       "version_major": 2,
       "version_minor": 0
      },
      "text/plain": [
       "Figure(layout=FigureLayout(height='420px'))"
      ]
     },
     "metadata": {},
     "output_type": "display_data"
    }
   ],
   "source": [
    "# Add marker layer ontop of heat map\n",
    "markers = gmaps.marker_layer(locations,hover_text=hotel_info)\n",
    "\n",
    "fig.add_layer(markers)\n",
    "\n",
    "fig\n",
    "\n",
    "# Display figure\n"
   ]
  },
  {
   "cell_type": "code",
   "execution_count": null,
   "metadata": {},
   "outputs": [],
   "source": []
  }
 ],
 "metadata": {
  "kernelspec": {
   "display_name": "Python 3",
   "language": "python",
   "name": "python3"
  },
  "language_info": {
   "codemirror_mode": {
    "name": "ipython",
    "version": 3
   },
   "file_extension": ".py",
   "mimetype": "text/x-python",
   "name": "python",
   "nbconvert_exporter": "python",
   "pygments_lexer": "ipython3",
   "version": "3.8.3"
  },
  "latex_envs": {
   "LaTeX_envs_menu_present": true,
   "autoclose": false,
   "autocomplete": true,
   "bibliofile": "biblio.bib",
   "cite_by": "apalike",
   "current_citInitial": 1,
   "eqLabelWithNumbers": true,
   "eqNumInitial": 1,
   "hotkeys": {
    "equation": "Ctrl-E",
    "itemize": "Ctrl-I"
   },
   "labels_anchors": false,
   "latex_user_defs": false,
   "report_style_numbering": false,
   "user_envs_cfg": false
  }
 },
 "nbformat": 4,
 "nbformat_minor": 4
}
