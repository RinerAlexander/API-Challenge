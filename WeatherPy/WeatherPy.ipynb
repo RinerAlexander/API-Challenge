{
 "cells": [
  {
   "cell_type": "markdown",
   "metadata": {},
   "source": [
    "# WeatherPy\n",
    "----\n",
    "\n",
    "#### Note\n",
    "* Instructions have been included for each segment. You do not have to follow them exactly, but they are included to help you think through the steps."
   ]
  },
  {
   "cell_type": "raw",
   "metadata": {},
   "source": [
    "Observations:\n",
    "1 As I randomly picked from the list of cities instead of choosing the closest city to a random set of coordinates there are a lot more in the norther hemisphere than in the southern. Also my data is perhaps more indicative of where people tend to build cities rather than how weather is physically distributed. This is probably due to there being more land mass in the northern than the southern hemisphere. \n",
    "2 Humidity in the northern hemisphere seems concentrated on the top with only a few dipping below 40%. The southern hemisphere on the other hand has more evenly distributed humidities. This is somewhat surprising to me as the southern hemisphere has a lower land mass to coast line ratio so I would have suspected higher humidity not lower.  \n",
    "3 On the other hand cloudiness in the northern hemisphere is evenly distributed while the southern is bimodal, ie most cities either have very high or very low cloudiness. "
   ]
  },
  {
   "cell_type": "code",
   "execution_count": 1,
   "metadata": {
    "scrolled": true
   },
   "outputs": [],
   "source": [
    "import pandas as pd\n",
    "import requests\n",
    "import os\n",
    "from citipy import citipy\n",
    "from matplotlib import pyplot as plt\n",
    "import numpy as np\n",
    "import scipy.stats as stats\n",
    "import random\n",
    "from keys import weather_api_key\n",
    "from pprint import pprint"
   ]
  },
  {
   "cell_type": "markdown",
   "metadata": {},
   "source": [
    "## Generate Cities List"
   ]
  },
  {
   "cell_type": "code",
   "execution_count": 90,
   "metadata": {},
   "outputs": [],
   "source": [
    "cityDF = pd.DataFrame()\n",
    "while cityDF.shape[0] < 500:\n",
    "    location,city = random.choice(list(citipy.WORLD_CITIES_DICT.items()))\n",
    "    cityDict={\"City\":city.city_name,\"Country\":city.country_code,\"Lat\":location[0],\"Lng\":location[1]}\n",
    "    \n",
    "    cityDF=cityDF.append(cityDict,ignore_index=True)\n",
    "    cityDF.drop_duplicates(inplace=True)\n",
    "    \n",
    "    \n",
    "\n",
    "\n"
   ]
  },
  {
   "cell_type": "markdown",
   "metadata": {},
   "source": [
    "### Perform API Calls\n",
    "* Perform a weather check on each city using a series of successive API calls.\n",
    "* Include a print log of each city as it'sbeing processed (with the city number and city name).\n"
   ]
  },
  {
   "cell_type": "code",
   "execution_count": 2,
   "metadata": {
    "scrolled": true
   },
   "outputs": [
    {
     "name": "stdout",
     "output_type": "stream",
     "text": [
      "Processing huamachuco city number 1\n",
      "Processing shebunino city number 2\n",
      "Processing tuensang city number 3\n",
      "Processing tollose city number 4\n",
      "City not found\n",
      "Processing ejido hermosillo city number 5\n",
      "Processing sao jose do belmonte city number 6\n",
      "City not found\n",
      "Processing bantilan city number 7\n",
      "Processing czechowice-dziedzice city number 8\n",
      "Processing castlewood city number 9\n",
      "Processing same city number 10\n",
      "Processing bam city number 11\n",
      "Processing banawang city number 12\n",
      "Processing danielskuil city number 13\n",
      "Processing tarui city number 14\n",
      "Processing libin city number 15\n",
      "Processing kondopoga city number 16\n",
      "Processing regensdorf city number 17\n",
      "Processing winchester city number 18\n",
      "Processing ebikon city number 19\n",
      "Processing encs city number 20\n",
      "Processing pachperwa city number 21\n",
      "Processing tlanalapa city number 22\n",
      "Processing gremyachinsk city number 23\n",
      "Processing shirone city number 24\n",
      "Processing chanute city number 25\n",
      "Processing sekudai city number 26\n",
      "Processing pujehun city number 27\n",
      "Processing andrews city number 28\n",
      "Processing salitral city number 29\n",
      "Processing valea mare city number 30\n",
      "Processing aguas del padre city number 31\n",
      "Processing verkhovye city number 32\n",
      "Processing oberasbach city number 33\n",
      "Processing lexington city number 34\n",
      "Processing san marino city number 35\n",
      "Processing scarisoara city number 36\n",
      "Processing colquechaca city number 37\n",
      "Processing starominskaya city number 38\n",
      "Processing zhangye city number 39\n",
      "Processing spokoynaya city number 40\n",
      "Processing sumisip city number 41\n",
      "Processing kakamigahara city number 42\n",
      "Processing ersekcsanad city number 43\n",
      "Processing jerantut city number 44\n",
      "Processing hernad city number 45\n",
      "Processing oshakati city number 46\n",
      "Processing redmond city number 47\n",
      "Processing toronto city number 48\n",
      "Processing caapucu city number 49\n",
      "Processing nauplion city number 50\n",
      "Processing dukstas city number 51\n",
      "Processing jaipur city number 52\n",
      "Processing tyup city number 53\n",
      "Processing salogon city number 54\n",
      "Processing santa rosa city number 55\n",
      "Processing nistoresti city number 56\n",
      "Processing doschatoye city number 57\n",
      "Processing gdansk city number 58\n",
      "Processing oberglatt city number 59\n",
      "Processing jessheim city number 60\n",
      "Processing smardan city number 61\n",
      "Processing onnaing city number 62\n",
      "Processing estancia velha city number 63\n",
      "Processing sabang city number 64\n",
      "Processing la mina city number 65\n",
      "Processing myrhorod city number 66\n",
      "Processing volodarskiy city number 67\n",
      "Processing kallifonion city number 68\n",
      "Processing losser city number 69\n",
      "Processing bac ninh city number 70\n",
      "Processing balta city number 71\n",
      "Processing highland springs city number 72\n",
      "Processing novoplatnirovskaya city number 73\n",
      "Processing cukai city number 74\n",
      "City not found\n",
      "Processing balmullo city number 75\n",
      "Processing nobsa city number 76\n",
      "Processing takaka city number 77\n",
      "Processing nkoteng city number 78\n",
      "Processing etaples city number 79\n",
      "Processing habartov city number 80\n",
      "Processing rakvere city number 81\n",
      "Processing san francisco de macoris city number 82\n",
      "Processing north bend city number 83\n",
      "Processing hove city number 84\n",
      "Processing campo grande city number 85\n",
      "Processing khorosheve city number 86\n",
      "Processing banka city number 87\n",
      "Processing pemangkat city number 88\n",
      "Processing kenderes city number 89\n",
      "Processing huangpi city number 90\n",
      "Processing linay city number 91\n",
      "Processing palani city number 92\n",
      "Processing san salvador el seco city number 93\n",
      "Processing pilar city number 94\n",
      "City not found\n",
      "Processing solca city number 95\n",
      "Processing saint charles city number 96\n",
      "Processing ubaira city number 97\n",
      "Processing posevnaya city number 98\n",
      "Processing khilchipur city number 99\n",
      "Processing kardamaina city number 100\n",
      "Processing rapina city number 101\n",
      "Processing vanatori city number 102\n",
      "Processing bucarasica city number 103\n",
      "Processing refojos de basto city number 104\n",
      "Processing shatin city number 105\n",
      "Processing staraya stanitsa city number 106\n",
      "Processing sageata city number 107\n",
      "Processing bugama city number 108\n",
      "Processing invergordon city number 109\n",
      "Processing smolenka city number 110\n",
      "Processing indiana city number 111\n",
      "Processing santimbru city number 112\n",
      "Processing altos city number 113\n",
      "Processing comayagua city number 114\n",
      "Processing maceio city number 115\n",
      "Processing dumesti city number 116\n",
      "Processing belmonte mezzagno city number 117\n",
      "Processing college place city number 118\n",
      "Processing nikolayevka city number 119\n",
      "Processing temirtau city number 120\n",
      "Processing poland city number 121\n",
      "Processing pushkino city number 122\n",
      "Processing northborough city number 123\n",
      "Processing kirkland lake city number 124\n",
      "Processing fridley city number 125\n",
      "Processing bell ville city number 126\n",
      "Processing salatig city number 127\n",
      "Processing bujak city number 128\n",
      "Processing betong city number 129\n",
      "Processing sittingbourne city number 130\n",
      "Processing krasnooktyabrskiy city number 131\n",
      "Processing eustaquio lopez city number 132\n",
      "Processing kunitachi city number 133\n",
      "Processing jerez city number 134\n",
      "Processing stanisic city number 135\n",
      "Processing numbrecht city number 136\n",
      "Processing wynyard city number 137\n",
      "Processing nezhinka city number 138\n",
      "Processing sentjur city number 139\n",
      "Processing celina city number 140\n",
      "City not found\n",
      "Processing sammamish city number 141\n",
      "Processing maidens city number 142\n",
      "Processing santo domingo city number 143\n",
      "Processing san vicente city number 144\n",
      "Processing vendryne city number 145\n",
      "Processing san jose del castillo city number 146\n",
      "Processing la tuque city number 147\n",
      "Processing holland city number 148\n",
      "Processing baneh city number 149\n",
      "Processing imperatriz city number 150\n",
      "Processing racalmuto city number 151\n",
      "City not found\n",
      "Processing ust-karsk city number 152\n",
      "Processing imbituva city number 153\n",
      "Processing glenn heights city number 154\n",
      "Processing coronado city number 155\n",
      "Processing uriangato city number 156\n",
      "Processing topolevo city number 157\n",
      "Processing ramos city number 158\n",
      "Processing camp thorel city number 159\n",
      "Processing amtala city number 160\n",
      "Processing kuldiga city number 161\n",
      "Processing nea iraklitsa city number 162\n",
      "Processing stow city number 163\n",
      "City not found\n",
      "Processing fakel city number 164\n",
      "City not found\n",
      "Processing sodhra city number 165\n",
      "Processing grojdibodu city number 166\n",
      "City not found\n",
      "Processing kananga city number 167\n",
      "Processing anao city number 168\n",
      "Processing les abymes city number 169\n",
      "Processing ciampino city number 170\n",
      "City not found\n",
      "Processing leh city number 171\n",
      "Processing kurashiki city number 172\n",
      "Processing choctaw city number 173\n",
      "Processing santa cruz de la palma city number 174\n",
      "Processing haslett city number 175\n",
      "Processing nexo city number 176\n",
      "Processing bornheim city number 177\n",
      "Processing ferlach city number 178\n",
      "Processing obando city number 179\n",
      "Processing barroso city number 180\n",
      "Processing tiwi city number 181\n",
      "Processing frankenberg city number 182\n",
      "Processing boynton beach city number 183\n",
      "Processing loudeac city number 184\n",
      "Processing daan city number 185\n",
      "Processing hospet city number 186\n",
      "Processing iguala city number 187\n",
      "Processing terryville city number 188\n",
      "Processing spartanburg city number 189\n",
      "Processing samora correia city number 190\n",
      "Processing moroceli city number 191\n",
      "Processing hispania city number 192\n",
      "Processing munkebo city number 193\n",
      "Processing quiniput city number 194\n",
      "Processing jais city number 195\n",
      "Processing bristol city number 196\n",
      "Processing la entrada city number 197\n",
      "Processing bambous city number 198\n",
      "Processing capul city number 199\n",
      "Processing maynard city number 200\n",
      "Processing caraycaray city number 201\n",
      "Processing ribeirao city number 202\n",
      "Processing san jose city number 203\n",
      "Processing laventure city number 204\n",
      "Processing vatra dornei city number 205\n",
      "Processing pagudpud city number 206\n",
      "Processing damayan city number 207\n",
      "Processing serendah city number 208\n",
      "Processing carlisle city number 209\n",
      "Processing cabanbanan city number 210\n",
      "Processing buchs city number 211\n",
      "Processing igarape city number 212\n",
      "Processing samaipata city number 213\n",
      "Processing utmanzai city number 214\n",
      "Processing kazanskaya city number 215\n",
      "Processing kuchl city number 216\n",
      "Processing friendly city number 217\n",
      "Processing mala vyska city number 218\n",
      "City not found\n",
      "Processing zoetermeer city number 219\n",
      "Processing nanma city number 220\n",
      "Processing svarychiv city number 221\n",
      "Processing trairi city number 222\n"
     ]
    },
    {
     "name": "stdout",
     "output_type": "stream",
     "text": [
      "Processing san fernando city number 223\n",
      "Processing essenbach city number 224\n",
      "Processing szentlorinc city number 225\n",
      "City not found\n",
      "Processing kitzbuhel city number 226\n",
      "Processing fuquay-varina city number 227\n",
      "Processing kamskiye polyany city number 228\n",
      "Processing malawag city number 229\n",
      "Processing laerdalsoyri city number 230\n",
      "Processing tapioszecso city number 231\n",
      "Processing bihar city number 232\n",
      "Processing dolton city number 233\n",
      "Processing nenton city number 234\n",
      "Processing belleville city number 235\n",
      "Processing manacsac city number 236\n",
      "Processing zhireken city number 237\n",
      "Processing tuli city number 238\n",
      "Processing eseka city number 239\n",
      "Processing trakai city number 240\n",
      "Processing songkhla city number 241\n",
      "Processing shijak city number 242\n",
      "Processing junqueiro city number 243\n",
      "Processing nanding city number 244\n",
      "Processing luze city number 245\n",
      "Processing rodbyhavn city number 246\n",
      "Processing kostelec nad orlici city number 247\n",
      "Processing wanaka city number 248\n",
      "City not found\n",
      "Processing hidalgo city number 249\n",
      "Processing blitar city number 250\n",
      "Processing chunar city number 251\n",
      "Processing anzio city number 252\n",
      "Processing borovskoy city number 253\n",
      "Processing malanday city number 254\n",
      "Processing grenaa city number 255\n",
      "Processing new baltimore city number 256\n",
      "Processing tsiroanomandidy city number 257\n",
      "Processing spantov city number 258\n",
      "Processing trebechovice pod orebem city number 259\n",
      "Processing topaipi city number 260\n",
      "Processing sabanalarga city number 261\n",
      "Processing san antonio city number 262\n",
      "Processing pervomayskoye city number 263\n",
      "Processing dinagat city number 264\n",
      "Processing argalasti city number 265\n",
      "Processing fengkou city number 266\n",
      "Processing hopeman city number 267\n",
      "Processing humen city number 268\n",
      "Processing florence city number 269\n",
      "Processing ulverstone city number 270\n",
      "Processing nimaima city number 271\n",
      "Processing alvaro obregon city number 272\n",
      "Processing khunti city number 273\n",
      "Processing newburgh city number 274\n",
      "Processing wako city number 275\n",
      "Processing landerneau city number 276\n",
      "Processing qaqortoq city number 277\n",
      "City not found\n",
      "Processing suletea city number 278\n",
      "Processing miramar city number 279\n",
      "Processing kavieng city number 280\n",
      "Processing callosa de segura city number 281\n",
      "Processing trebisov city number 282\n",
      "Processing alesd city number 283\n",
      "Processing umiray city number 284\n",
      "Processing pangoa city number 285\n",
      "Processing taggia city number 286\n",
      "Processing maaseik city number 287\n",
      "Processing boizenburg city number 288\n",
      "Processing bolshoye selo city number 289\n",
      "Processing pidhorodne city number 290\n",
      "Processing markha city number 291\n",
      "Processing rind city number 292\n",
      "Processing sao desiderio city number 293\n",
      "Processing addis abeba city number 294\n",
      "Processing oktyabrskiy city number 295\n",
      "City not found\n",
      "Processing igarassu city number 296\n",
      "Processing selm city number 297\n",
      "Processing brebeni city number 298\n",
      "Processing guayape city number 299\n",
      "Processing inverurie city number 300\n",
      "Processing villa de san francisco city number 301\n",
      "Processing segou city number 302\n",
      "Processing rocca di papa city number 303\n",
      "Processing skowhegan city number 304\n",
      "Processing comarapa city number 305\n",
      "Processing trieste city number 306\n",
      "Processing south huntington city number 307\n",
      "Processing salinas city number 308\n",
      "Processing sondrio city number 309\n",
      "Processing vezirkopru city number 310\n",
      "Processing fundao city number 311\n",
      "Processing tobuan city number 312\n",
      "Processing taksimo city number 313\n",
      "Processing glendale heights city number 314\n",
      "Processing alunu city number 315\n",
      "Processing bekessamson city number 316\n",
      "Processing pita city number 317\n",
      "Processing xinmin city number 318\n",
      "Processing pelileo city number 319\n",
      "City not found\n",
      "Processing chunskiy city number 320\n",
      "Processing tiream city number 321\n",
      "Processing tarascon city number 322\n",
      "Processing anniston city number 323\n",
      "Processing la madeleine city number 324\n",
      "Processing spanish town city number 325\n",
      "Processing castelfidardo city number 326\n",
      "City not found\n",
      "Processing martvili city number 327\n",
      "Processing gubin city number 328\n",
      "Processing kokstad city number 329\n",
      "Processing lugoj city number 330\n",
      "Processing moses lake city number 331\n",
      "Processing shirakamut city number 332\n",
      "City not found\n",
      "City not found\n",
      "Processing san pedro jocopilas city number 333\n",
      "Processing ternovskaya city number 334\n",
      "Processing middlesex city number 335\n",
      "Processing lavezares city number 336\n",
      "Processing jhunjhunun city number 337\n",
      "Processing devavanya city number 338\n",
      "Processing ciudad del maiz city number 339\n",
      "Processing yhu city number 340\n",
      "Processing jagatsinghapur city number 341\n",
      "Processing tigao city number 342\n",
      "Processing troitskoye city number 343\n",
      "Processing hulan city number 344\n",
      "Processing atasu city number 345\n",
      "Processing tlaxco city number 346\n",
      "Processing kohtla-nomme city number 347\n",
      "Processing san isidro city number 348\n",
      "Processing khorlovo city number 349\n",
      "Processing krasnyy kut city number 350\n",
      "Processing lota city number 351\n",
      "Processing drobeta-turnu severin city number 352\n",
      "Processing ulundi city number 353\n",
      "Processing balatero city number 354\n",
      "Processing sambrial city number 355\n",
      "Processing pelileo city number 356\n",
      "Processing jozefow city number 357\n",
      "City not found\n",
      "Processing mambolo city number 358\n",
      "Processing barkaker city number 359\n",
      "Processing wolfenbuttel city number 360\n",
      "City not found\n",
      "City not found\n",
      "City not found\n",
      "Processing arapi city number 361\n",
      "Processing magdalena city number 362\n",
      "Processing liverpool city number 363\n",
      "Processing atid city number 364\n",
      "Processing tourcoing city number 365\n",
      "Processing pantubig city number 366\n",
      "Processing cumbitara city number 367\n",
      "Processing buenavista city number 368\n",
      "City not found\n",
      "Processing laurel city number 369\n",
      "Processing geldermalsen city number 370\n",
      "Processing beaver dam city number 371\n",
      "Processing usolye-sibirskoye city number 372\n",
      "Processing parita city number 373\n",
      "Processing vostan city number 374\n",
      "Processing melur city number 375\n",
      "Processing bodajk city number 376\n",
      "Processing dorolt city number 377\n",
      "Processing chernyanka city number 378\n",
      "Processing zaragoza city number 379\n",
      "Processing villanueva city number 380\n",
      "Processing mibu city number 381\n",
      "Processing badarganj city number 382\n",
      "Processing ramanathapuram city number 383\n",
      "Processing zamostea city number 384\n",
      "Processing autun city number 385\n",
      "Processing shelbyville city number 386\n",
      "Processing grandview city number 387\n",
      "Processing riachao do jacuipe city number 388\n",
      "Processing auce city number 389\n",
      "Processing aksay city number 390\n",
      "Processing bunesti city number 391\n",
      "Processing qarchak city number 392\n",
      "Processing palazzolo acreide city number 393\n",
      "Processing montanha city number 394\n",
      "Processing beau vallon city number 395\n",
      "Processing burpengary city number 396\n",
      "Processing jhang city number 397\n",
      "Processing jalor city number 398\n",
      "Processing vidosi city number 399\n",
      "City not found\n",
      "Processing moju city number 400\n",
      "Processing polis city number 401\n",
      "Processing batu city number 402\n",
      "Processing tolisa city number 403\n",
      "City not found\n",
      "Processing picsi city number 404\n",
      "Processing seesen city number 405\n",
      "Processing jelenia gora city number 406\n",
      "Processing brahasesti city number 407\n",
      "Processing huacho city number 408\n",
      "Processing nebaj city number 409\n",
      "Processing arivonimamo city number 410\n",
      "Processing pragal city number 411\n",
      "Processing karia city number 412\n",
      "Processing nikopol city number 413\n",
      "Processing danville city number 414\n",
      "Processing chelmsford city number 415\n",
      "Processing los reyes city number 416\n",
      "Processing mhango city number 417\n",
      "Processing canton city number 418\n",
      "Processing marabba city number 419\n",
      "Processing schoningen city number 420\n",
      "Processing sutton city number 421\n",
      "Processing alburikent city number 422\n",
      "Processing bonito city number 423\n",
      "Processing khomutovo city number 424\n",
      "Processing tulare city number 425\n",
      "Processing grand bank city number 426\n",
      "Processing ixtlahuacan del rio city number 427\n",
      "Processing leavenworth city number 428\n",
      "Processing dumbravita city number 429\n",
      "Processing mathbaria city number 430\n",
      "Processing shajapur city number 431\n",
      "Processing nagutskoye city number 432\n",
      "Processing keratea city number 433\n",
      "Processing brazi city number 434\n",
      "Processing rietavas city number 435\n",
      "City not found\n",
      "Processing aliso viejo city number 436\n",
      "Processing college place city number 437\n",
      "Processing ongole city number 438\n",
      "Processing battle creek city number 439\n",
      "Processing welahan city number 440\n"
     ]
    },
    {
     "name": "stdout",
     "output_type": "stream",
     "text": [
      "Processing middletown city number 441\n",
      "Processing danville city number 442\n",
      "Processing sorel city number 443\n",
      "Processing chamba city number 444\n",
      "Processing new castle city number 445\n",
      "Processing parambu city number 446\n",
      "Processing elati city number 447\n",
      "Processing nahariyya city number 448\n",
      "Processing ozora city number 449\n",
      "Processing pagsanjan city number 450\n",
      "Processing hudiksvall city number 451\n",
      "Processing agigea city number 452\n",
      "Processing iwatsuki city number 453\n",
      "Processing purnia city number 454\n",
      "Processing budogoshch city number 455\n",
      "Processing hicksville city number 456\n",
      "Processing colotlan city number 457\n",
      "Processing del monte city number 458\n",
      "Processing tambo city number 459\n",
      "Processing albi city number 460\n",
      "Processing catia la mar city number 461\n",
      "Processing esmoriz city number 462\n",
      "Processing dartford city number 463\n",
      "City not found\n",
      "Processing torshavn city number 464\n",
      "Processing sasebo city number 465\n",
      "Processing belleville city number 466\n",
      "Processing koluszki city number 467\n",
      "Processing tarrafal city number 468\n",
      "Processing dovolnoye city number 469\n",
      "Processing bochov city number 470\n",
      "Processing the crossings city number 471\n",
      "Processing victoria city number 472\n",
      "Processing kristoni city number 473\n",
      "Processing samokov city number 474\n",
      "Processing kuningan city number 475\n",
      "Processing partizanskoye city number 476\n",
      "Processing taucha city number 477\n",
      "Processing chlorakas city number 478\n",
      "Processing palo alto city number 479\n",
      "City not found\n",
      "Processing margarita city number 480\n",
      "Processing muntenii de jos city number 481\n",
      "Processing valer city number 482\n",
      "Processing zmeinogorsk city number 483\n",
      "Processing mondorf-les-bains city number 484\n",
      "Processing gornyak city number 485\n",
      "Processing vengerovo city number 486\n",
      "Processing vnukovo city number 487\n",
      "Processing crissier city number 488\n",
      "Processing north kessock city number 489\n",
      "Processing raciu city number 490\n",
      "Processing karpokhorion city number 491\n",
      "Processing ome city number 492\n",
      "Processing kerikeri city number 493\n",
      "Processing bagting city number 494\n",
      "City not found\n",
      "Processing kostrzyn city number 495\n",
      "Processing hirna city number 496\n",
      "Processing tono city number 497\n",
      "Processing sharon city number 498\n",
      "Processing cifuentes city number 499\n",
      "Processing polna city number 500\n",
      "Processing chilchotla city number 501\n",
      "Processing ensley city number 502\n"
     ]
    }
   ],
   "source": [
    "cityDF = pd.DataFrame()\n",
    "index=0\n",
    "while cityDF.shape[0] < 500:\n",
    "    location,city = random.choice(list(citipy.WORLD_CITIES_DICT.items()))\n",
    "    \n",
    "    url = \"http://api.openweathermap.org/data/2.5/weather?\"\n",
    "    name = city.city_name\n",
    "    country=city.country_code\n",
    "    units = \"imperial\"\n",
    "    query_url = url + \"appid=\" + weather_api_key + \"&q=\" + name +\",\"+country+\"&units=\" + units\n",
    "    weather_response = requests.get(query_url)\n",
    "    weather_json = weather_response.json()\n",
    "\n",
    "    if weather_json=={'cod': '404', 'message': 'city not found'}:\n",
    "        print(\"City not found\")\n",
    "        continue\n",
    "    maxTemp=weather_json[\"main\"][\"temp_max\"]\n",
    "    humid=weather_json[\"main\"][\"humidity\"]\n",
    "    clouds=weather_json[\"clouds\"][\"all\"]\n",
    "    wind=weather_json[\"wind\"][\"speed\"]\n",
    "    date=weather_json[\"dt\"]\n",
    "    \n",
    "    index=index+1\n",
    "    print(f\"Processing {name} city number {index}\")\n",
    "    \n",
    "    cityDict={\"City\":name,\"Country\":country,\"Lat\":location[0],\"Lng\":location[1],\"Max Temp\":maxTemp,\"Humidity\":humid,\"Cloudiness\":clouds,\"Wind Speed\":wind,\"Date\":date}    \n",
    "    cityDF=cityDF.append(cityDict,ignore_index=True)\n",
    "    \n",
    "    cityDF.drop_duplicates(subset=[\"City\",\"Country\",\"Lat\",\"Lng\"],inplace=True)"
   ]
  },
  {
   "cell_type": "code",
   "execution_count": 4,
   "metadata": {},
   "outputs": [
    {
     "data": {
      "text/plain": [
       "(500, 9)"
      ]
     },
     "execution_count": 4,
     "metadata": {},
     "output_type": "execute_result"
    }
   ],
   "source": [
    "cityDF.shape"
   ]
  },
  {
   "cell_type": "markdown",
   "metadata": {},
   "source": [
    "### Convert Raw Data to DataFrame\n",
    "* Export the city data into a .csv.\n",
    "* Display the DataFrame"
   ]
  },
  {
   "cell_type": "code",
   "execution_count": 3,
   "metadata": {},
   "outputs": [],
   "source": [
    "file = os.path.join(\"City_Weather.csv\")\n",
    "cityDF.to_csv(file, index=False, header=True)"
   ]
  },
  {
   "cell_type": "code",
   "execution_count": 16,
   "metadata": {},
   "outputs": [
    {
     "data": {
      "text/html": [
       "<div>\n",
       "<style scoped>\n",
       "    .dataframe tbody tr th:only-of-type {\n",
       "        vertical-align: middle;\n",
       "    }\n",
       "\n",
       "    .dataframe tbody tr th {\n",
       "        vertical-align: top;\n",
       "    }\n",
       "\n",
       "    .dataframe thead th {\n",
       "        text-align: right;\n",
       "    }\n",
       "</style>\n",
       "<table border=\"1\" class=\"dataframe\">\n",
       "  <thead>\n",
       "    <tr style=\"text-align: right;\">\n",
       "      <th></th>\n",
       "      <th>Lat</th>\n",
       "      <th>Lng</th>\n",
       "      <th>Max Temp</th>\n",
       "      <th>Humidity</th>\n",
       "      <th>Cloudiness</th>\n",
       "      <th>Wind Speed</th>\n",
       "      <th>Date</th>\n",
       "    </tr>\n",
       "  </thead>\n",
       "  <tbody>\n",
       "    <tr>\n",
       "      <td>count</td>\n",
       "      <td>599.000000</td>\n",
       "      <td>599.000000</td>\n",
       "      <td>599.000000</td>\n",
       "      <td>599.000000</td>\n",
       "      <td>599.000000</td>\n",
       "      <td>599.000000</td>\n",
       "      <td>5.990000e+02</td>\n",
       "    </tr>\n",
       "    <tr>\n",
       "      <td>mean</td>\n",
       "      <td>19.877028</td>\n",
       "      <td>19.568998</td>\n",
       "      <td>69.794808</td>\n",
       "      <td>69.353923</td>\n",
       "      <td>51.569282</td>\n",
       "      <td>7.979416</td>\n",
       "      <td>1.593605e+09</td>\n",
       "    </tr>\n",
       "    <tr>\n",
       "      <td>std</td>\n",
       "      <td>33.262944</td>\n",
       "      <td>91.418472</td>\n",
       "      <td>15.678452</td>\n",
       "      <td>22.704698</td>\n",
       "      <td>35.405602</td>\n",
       "      <td>5.660694</td>\n",
       "      <td>5.738815e+01</td>\n",
       "    </tr>\n",
       "    <tr>\n",
       "      <td>min</td>\n",
       "      <td>-54.800000</td>\n",
       "      <td>-179.170000</td>\n",
       "      <td>12.200000</td>\n",
       "      <td>7.000000</td>\n",
       "      <td>0.000000</td>\n",
       "      <td>0.360000</td>\n",
       "      <td>1.593605e+09</td>\n",
       "    </tr>\n",
       "    <tr>\n",
       "      <td>25%</td>\n",
       "      <td>-8.540000</td>\n",
       "      <td>-61.210000</td>\n",
       "      <td>59.000000</td>\n",
       "      <td>55.000000</td>\n",
       "      <td>20.000000</td>\n",
       "      <td>3.620000</td>\n",
       "      <td>1.593605e+09</td>\n",
       "    </tr>\n",
       "    <tr>\n",
       "      <td>50%</td>\n",
       "      <td>24.370000</td>\n",
       "      <td>24.670000</td>\n",
       "      <td>73.110000</td>\n",
       "      <td>75.000000</td>\n",
       "      <td>59.000000</td>\n",
       "      <td>6.730000</td>\n",
       "      <td>1.593605e+09</td>\n",
       "    </tr>\n",
       "    <tr>\n",
       "      <td>75%</td>\n",
       "      <td>46.585000</td>\n",
       "      <td>102.255000</td>\n",
       "      <td>80.600000</td>\n",
       "      <td>87.000000</td>\n",
       "      <td>85.000000</td>\n",
       "      <td>11.050000</td>\n",
       "      <td>1.593605e+09</td>\n",
       "    </tr>\n",
       "    <tr>\n",
       "      <td>max</td>\n",
       "      <td>78.220000</td>\n",
       "      <td>179.320000</td>\n",
       "      <td>116.600000</td>\n",
       "      <td>100.000000</td>\n",
       "      <td>100.000000</td>\n",
       "      <td>42.500000</td>\n",
       "      <td>1.593605e+09</td>\n",
       "    </tr>\n",
       "  </tbody>\n",
       "</table>\n",
       "</div>"
      ],
      "text/plain": [
       "              Lat         Lng    Max Temp    Humidity  Cloudiness  Wind Speed  \\\n",
       "count  599.000000  599.000000  599.000000  599.000000  599.000000  599.000000   \n",
       "mean    19.877028   19.568998   69.794808   69.353923   51.569282    7.979416   \n",
       "std     33.262944   91.418472   15.678452   22.704698   35.405602    5.660694   \n",
       "min    -54.800000 -179.170000   12.200000    7.000000    0.000000    0.360000   \n",
       "25%     -8.540000  -61.210000   59.000000   55.000000   20.000000    3.620000   \n",
       "50%     24.370000   24.670000   73.110000   75.000000   59.000000    6.730000   \n",
       "75%     46.585000  102.255000   80.600000   87.000000   85.000000   11.050000   \n",
       "max     78.220000  179.320000  116.600000  100.000000  100.000000   42.500000   \n",
       "\n",
       "               Date  \n",
       "count  5.990000e+02  \n",
       "mean   1.593605e+09  \n",
       "std    5.738815e+01  \n",
       "min    1.593605e+09  \n",
       "25%    1.593605e+09  \n",
       "50%    1.593605e+09  \n",
       "75%    1.593605e+09  \n",
       "max    1.593605e+09  "
      ]
     },
     "execution_count": 16,
     "metadata": {},
     "output_type": "execute_result"
    }
   ],
   "source": []
  },
  {
   "cell_type": "markdown",
   "metadata": {},
   "source": [
    "## Inspect the data and remove the cities where the humidity > 100%.\n",
    "----\n",
    "Skip this step if there are no cities that have humidity > 100%. "
   ]
  },
  {
   "cell_type": "code",
   "execution_count": 5,
   "metadata": {},
   "outputs": [
    {
     "data": {
      "text/html": [
       "<div>\n",
       "<style scoped>\n",
       "    .dataframe tbody tr th:only-of-type {\n",
       "        vertical-align: middle;\n",
       "    }\n",
       "\n",
       "    .dataframe tbody tr th {\n",
       "        vertical-align: top;\n",
       "    }\n",
       "\n",
       "    .dataframe thead th {\n",
       "        text-align: right;\n",
       "    }\n",
       "</style>\n",
       "<table border=\"1\" class=\"dataframe\">\n",
       "  <thead>\n",
       "    <tr style=\"text-align: right;\">\n",
       "      <th></th>\n",
       "      <th>City</th>\n",
       "      <th>Cloudiness</th>\n",
       "      <th>Country</th>\n",
       "      <th>Date</th>\n",
       "      <th>Humidity</th>\n",
       "      <th>Lat</th>\n",
       "      <th>Lng</th>\n",
       "      <th>Max Temp</th>\n",
       "      <th>Wind Speed</th>\n",
       "    </tr>\n",
       "  </thead>\n",
       "  <tbody>\n",
       "  </tbody>\n",
       "</table>\n",
       "</div>"
      ],
      "text/plain": [
       "Empty DataFrame\n",
       "Columns: [City, Cloudiness, Country, Date, Humidity, Lat, Lng, Max Temp, Wind Speed]\n",
       "Index: []"
      ]
     },
     "execution_count": 5,
     "metadata": {},
     "output_type": "execute_result"
    }
   ],
   "source": [
    "cityDF[cityDF[\"Humidity\"]>100]"
   ]
  },
  {
   "cell_type": "code",
   "execution_count": 17,
   "metadata": {},
   "outputs": [
    {
     "data": {
      "text/plain": [
       "Int64Index([], dtype='int64')"
      ]
     },
     "execution_count": 17,
     "metadata": {},
     "output_type": "execute_result"
    }
   ],
   "source": [
    "#  Get the indices of cities that have humidity over 100%.\n"
   ]
  },
  {
   "cell_type": "code",
   "execution_count": 19,
   "metadata": {},
   "outputs": [
    {
     "data": {
      "text/html": [
       "<div>\n",
       "<style scoped>\n",
       "    .dataframe tbody tr th:only-of-type {\n",
       "        vertical-align: middle;\n",
       "    }\n",
       "\n",
       "    .dataframe tbody tr th {\n",
       "        vertical-align: top;\n",
       "    }\n",
       "\n",
       "    .dataframe thead th {\n",
       "        text-align: right;\n",
       "    }\n",
       "</style>\n",
       "<table border=\"1\" class=\"dataframe\">\n",
       "  <thead>\n",
       "    <tr style=\"text-align: right;\">\n",
       "      <th></th>\n",
       "      <th>City</th>\n",
       "      <th>Lat</th>\n",
       "      <th>Lng</th>\n",
       "      <th>Max Temp</th>\n",
       "      <th>Humidity</th>\n",
       "      <th>Cloudiness</th>\n",
       "      <th>Wind Speed</th>\n",
       "      <th>Country</th>\n",
       "      <th>Date</th>\n",
       "    </tr>\n",
       "  </thead>\n",
       "  <tbody>\n",
       "    <tr>\n",
       "      <td>0</td>\n",
       "      <td>butaritari</td>\n",
       "      <td>3.07</td>\n",
       "      <td>172.79</td>\n",
       "      <td>83.32</td>\n",
       "      <td>74</td>\n",
       "      <td>84</td>\n",
       "      <td>10.42</td>\n",
       "      <td>KI</td>\n",
       "      <td>1593605283</td>\n",
       "    </tr>\n",
       "    <tr>\n",
       "      <td>1</td>\n",
       "      <td>yerbogachen</td>\n",
       "      <td>61.28</td>\n",
       "      <td>108.01</td>\n",
       "      <td>79.52</td>\n",
       "      <td>58</td>\n",
       "      <td>20</td>\n",
       "      <td>7.70</td>\n",
       "      <td>RU</td>\n",
       "      <td>1593605121</td>\n",
       "    </tr>\n",
       "    <tr>\n",
       "      <td>2</td>\n",
       "      <td>cape town</td>\n",
       "      <td>-33.93</td>\n",
       "      <td>18.42</td>\n",
       "      <td>73.00</td>\n",
       "      <td>77</td>\n",
       "      <td>27</td>\n",
       "      <td>4.70</td>\n",
       "      <td>ZA</td>\n",
       "      <td>1593605039</td>\n",
       "    </tr>\n",
       "    <tr>\n",
       "      <td>3</td>\n",
       "      <td>touba</td>\n",
       "      <td>8.28</td>\n",
       "      <td>-7.68</td>\n",
       "      <td>79.97</td>\n",
       "      <td>75</td>\n",
       "      <td>82</td>\n",
       "      <td>3.58</td>\n",
       "      <td>CI</td>\n",
       "      <td>1593605284</td>\n",
       "    </tr>\n",
       "    <tr>\n",
       "      <td>4</td>\n",
       "      <td>jamestown</td>\n",
       "      <td>42.10</td>\n",
       "      <td>-79.24</td>\n",
       "      <td>64.00</td>\n",
       "      <td>88</td>\n",
       "      <td>1</td>\n",
       "      <td>6.93</td>\n",
       "      <td>US</td>\n",
       "      <td>1593605284</td>\n",
       "    </tr>\n",
       "  </tbody>\n",
       "</table>\n",
       "</div>"
      ],
      "text/plain": [
       "          City    Lat     Lng  Max Temp  Humidity  Cloudiness  Wind Speed  \\\n",
       "0   butaritari   3.07  172.79     83.32        74          84       10.42   \n",
       "1  yerbogachen  61.28  108.01     79.52        58          20        7.70   \n",
       "2    cape town -33.93   18.42     73.00        77          27        4.70   \n",
       "3        touba   8.28   -7.68     79.97        75          82        3.58   \n",
       "4    jamestown  42.10  -79.24     64.00        88           1        6.93   \n",
       "\n",
       "  Country        Date  \n",
       "0      KI  1593605283  \n",
       "1      RU  1593605121  \n",
       "2      ZA  1593605039  \n",
       "3      CI  1593605284  \n",
       "4      US  1593605284  "
      ]
     },
     "execution_count": 19,
     "metadata": {},
     "output_type": "execute_result"
    }
   ],
   "source": [
    "# Make a new DataFrame equal to the city data to drop all humidity outliers by index.\n",
    "# Passing \"inplace=False\" will make a copy of the city_data DataFrame, which we call \"clean_city_data\".\n"
   ]
  },
  {
   "cell_type": "code",
   "execution_count": null,
   "metadata": {},
   "outputs": [],
   "source": [
    "\n"
   ]
  },
  {
   "cell_type": "markdown",
   "metadata": {},
   "source": [
    "## Plotting the Data\n",
    "* Use proper labeling of the plots using plot titles (including date of analysis) and axes labels.\n",
    "* Save the plotted figures as .pngs."
   ]
  },
  {
   "cell_type": "markdown",
   "metadata": {},
   "source": [
    "## Latitude vs. Temperature Plot"
   ]
  },
  {
   "cell_type": "code",
   "execution_count": 16,
   "metadata": {
    "scrolled": true
   },
   "outputs": [
    {
     "data": {
      "image/png": "[encoded data removed]",
      "text/plain": [
       "<Figure size 432x288 with 1 Axes>"
      ]
     },
     "metadata": {
      "needs_background": "light"
     },
     "output_type": "display_data"
    }
   ],
   "source": [
    "plt.scatter(cityDF[\"Lat\"],cityDF[\"Max Temp\"])\n",
    "plt.xlabel(\"Latitude\")\n",
    "plt.ylabel(\"Temprature\")\n",
    "plt.title(\"Latitude vs Temprature\")\n",
    "file = os.path.join(\"Latitude_vs_Temprature.png\")\n",
    "plt.savefig(file)"
   ]
  },
  {
   "cell_type": "markdown",
   "metadata": {},
   "source": [
    "## Latitude vs. Humidity Plot"
   ]
  },
  {
   "cell_type": "code",
   "execution_count": 17,
   "metadata": {},
   "outputs": [
    {
     "data": {
      "image/png": "[encoded data removed]",
      "text/plain": [
       "<Figure size 432x288 with 1 Axes>"
      ]
     },
     "metadata": {
      "needs_background": "light"
     },
     "output_type": "display_data"
    }
   ],
   "source": [
    "plt.scatter(cityDF[\"Lat\"],cityDF[\"Humidity\"])\n",
    "plt.xlabel(\"Latitude\")\n",
    "plt.ylabel(\"Temprature\")\n",
    "plt.title(\"Latitude vs Humidity\")\n",
    "file = os.path.join(\"Latitude_vs_Humidity.png\")\n",
    "plt.savefig(file)"
   ]
  },
  {
   "cell_type": "markdown",
   "metadata": {},
   "source": [
    "## Latitude vs. Cloudiness Plot"
   ]
  },
  {
   "cell_type": "code",
   "execution_count": 18,
   "metadata": {},
   "outputs": [
    {
     "data": {
      "image/png": "[encoded data removed]",
      "text/plain": [
       "<Figure size 432x288 with 1 Axes>"
      ]
     },
     "metadata": {
      "needs_background": "light"
     },
     "output_type": "display_data"
    }
   ],
   "source": [
    "plt.scatter(cityDF[\"Lat\"],cityDF[\"Cloudiness\"])\n",
    "plt.xlabel(\"Latitude\")\n",
    "plt.ylabel(\"Temprature\")\n",
    "plt.title(\"Latitude vs Cloudiness\")\n",
    "file = os.path.join(\"Latitude_vs_Cloudiness.png\")\n",
    "plt.savefig(file)"
   ]
  },
  {
   "cell_type": "markdown",
   "metadata": {},
   "source": [
    "## Latitude vs. Wind Speed Plot"
   ]
  },
  {
   "cell_type": "code",
   "execution_count": 19,
   "metadata": {},
   "outputs": [
    {
     "data": {
      "image/png": "[encoded data removed]",
      "text/plain": [
       "<Figure size 432x288 with 1 Axes>"
      ]
     },
     "metadata": {
      "needs_background": "light"
     },
     "output_type": "display_data"
    }
   ],
   "source": [
    "plt.scatter(cityDF[\"Lat\"],cityDF[\"Wind Speed\"])\n",
    "plt.xlabel(\"Latitude\")\n",
    "plt.ylabel(\"Temprature\")\n",
    "plt.title(\"Latitude vs Wind Speed\")\n",
    "file = os.path.join(\"Latitude_vs_Wind_Speed.png\")\n",
    "plt.savefig(file)"
   ]
  },
  {
   "cell_type": "markdown",
   "metadata": {},
   "source": [
    "## Linear Regression"
   ]
  },
  {
   "cell_type": "code",
   "execution_count": 5,
   "metadata": {},
   "outputs": [],
   "source": [
    "NorLatDF=cityDF[cityDF[\"Lat\"]>=0]\n",
    "SouLatDF=cityDF[cityDF[\"Lat\"]<0]"
   ]
  },
  {
   "cell_type": "markdown",
   "metadata": {},
   "source": [
    "####  Northern Hemisphere - Max Temp vs. Latitude Linear Regression"
   ]
  },
  {
   "cell_type": "code",
   "execution_count": 10,
   "metadata": {},
   "outputs": [
    {
     "data": {
      "image/png": "[encoded data removed]",
      "text/plain": [
       "<Figure size 432x288 with 1 Axes>"
      ]
     },
     "metadata": {
      "needs_background": "light"
     },
     "output_type": "display_data"
    }
   ],
   "source": [
    "x_values = NorLatDF[\"Lat\"]\n",
    "y_values = NorLatDF['Max Temp']\n",
    "\n",
    "slope, intercept, rvalue, pvalue, stderr = stats.linregress(x_values, y_values)\n",
    "\n",
    "regression_values = x_values * slope + intercept\n",
    "\n",
    "line_eq = \"y = \" + str(round(slope,2)) + \"x + \" + str(round(intercept,2))\n",
    "\n",
    "plt.scatter(NorLatDF[\"Lat\"],NorLatDF['Max Temp'])\n",
    "plt.plot(x_values, regression_values, \"red\")\n",
    "plt.xlabel(\"Latitude\")\n",
    "plt.ylabel(\"Temprature\")\n",
    "plt.title(\"Northern Latitude vs Temprature\")\n",
    "\n",
    "\n",
    "file = os.path.join(\"Northern_Latitude_vs_Temprature_lm.png\")\n",
    "plt.savefig(file)"
   ]
  },
  {
   "cell_type": "markdown",
   "metadata": {},
   "source": [
    "####  Southern Hemisphere - Max Temp vs. Latitude Linear Regression"
   ]
  },
  {
   "cell_type": "code",
   "execution_count": 11,
   "metadata": {},
   "outputs": [
    {
     "data": {
      "image/png": "[encoded data removed]",
      "text/plain": [
       "<Figure size 432x288 with 1 Axes>"
      ]
     },
     "metadata": {
      "needs_background": "light"
     },
     "output_type": "display_data"
    }
   ],
   "source": [
    "x_values = SouLatDF[\"Lat\"]\n",
    "y_values = SouLatDF['Max Temp']\n",
    "\n",
    "slope, intercept, rvalue, pvalue, stderr = stats.linregress(x_values, y_values)\n",
    "\n",
    "regression_values = x_values * slope + intercept\n",
    "\n",
    "line_eq = \"y = \" + str(round(slope,2)) + \"x + \" + str(round(intercept,2))\n",
    "\n",
    "plt.scatter(SouLatDF[\"Lat\"],SouLatDF['Max Temp'])\n",
    "plt.plot(x_values, regression_values, \"red\")\n",
    "plt.xlabel(\"Latitude\")\n",
    "plt.ylabel(\"Temprature\")\n",
    "plt.title(\"Southern Latitude vs Temprature\")\n",
    "\n",
    "\n",
    "file = os.path.join(\"Southern Latitude vs Temprature_lm.png\")\n",
    "plt.savefig(file)"
   ]
  },
  {
   "cell_type": "markdown",
   "metadata": {},
   "source": [
    "####  Northern Hemisphere - Humidity (%) vs. Latitude Linear Regression"
   ]
  },
  {
   "cell_type": "code",
   "execution_count": 12,
   "metadata": {},
   "outputs": [
    {
     "data": {
      "image/png": "[encoded data removed]",
      "text/plain": [
       "<Figure size 432x288 with 1 Axes>"
      ]
     },
     "metadata": {
      "needs_background": "light"
     },
     "output_type": "display_data"
    }
   ],
   "source": [
    "x_values = NorLatDF[\"Lat\"]\n",
    "y_values = NorLatDF['Humidity']\n",
    "\n",
    "slope, intercept, rvalue, pvalue, stderr = stats.linregress(x_values, y_values)\n",
    "\n",
    "regression_values = x_values * slope + intercept\n",
    "\n",
    "line_eq = \"y = \" + str(round(slope,2)) + \"x + \" + str(round(intercept,2))\n",
    "\n",
    "plt.scatter(NorLatDF[\"Lat\"],NorLatDF['Humidity'])\n",
    "plt.plot(x_values, regression_values, \"red\")\n",
    "plt.xlabel(\"Latitude\")\n",
    "plt.ylabel(\"Humidity\")\n",
    "plt.title(\"Northern Latitude vs Humidity\")\n",
    "\n",
    "\n",
    "file = os.path.join(\"Northern_Latitude_vs_Humidity_lm.png\")\n",
    "plt.savefig(file)"
   ]
  },
  {
   "cell_type": "markdown",
   "metadata": {},
   "source": [
    "####  Southern Hemisphere - Humidity (%) vs. Latitude Linear Regression"
   ]
  },
  {
   "cell_type": "code",
   "execution_count": 13,
   "metadata": {},
   "outputs": [
    {
     "data": {
      "image/png": "[encoded data removed]",
      "text/plain": [
       "<Figure size 432x288 with 1 Axes>"
      ]
     },
     "metadata": {
      "needs_background": "light"
     },
     "output_type": "display_data"
    }
   ],
   "source": [
    "x_values = SouLatDF[\"Lat\"]\n",
    "y_values = SouLatDF['Humidity']\n",
    "\n",
    "slope, intercept, rvalue, pvalue, stderr = stats.linregress(x_values, y_values)\n",
    "\n",
    "regression_values = x_values * slope + intercept\n",
    "\n",
    "line_eq = \"y = \" + str(round(slope,2)) + \"x + \" + str(round(intercept,2))\n",
    "\n",
    "plt.scatter(SouLatDF[\"Lat\"],SouLatDF['Humidity'])\n",
    "plt.plot(x_values, regression_values, \"red\")\n",
    "plt.xlabel(\"Latitude\")\n",
    "plt.ylabel(\"Humidity\")\n",
    "plt.title(\"Southern Latitude vs Humidity\")\n",
    "\n",
    "\n",
    "file = os.path.join(\"Southern_Latitude_vs_Humidity_lm.png\")\n",
    "plt.savefig(file)"
   ]
  },
  {
   "cell_type": "markdown",
   "metadata": {},
   "source": [
    "####  Northern Hemisphere - Cloudiness (%) vs. Latitude Linear Regression"
   ]
  },
  {
   "cell_type": "code",
   "execution_count": 15,
   "metadata": {},
   "outputs": [
    {
     "data": {
      "image/png": "[encoded data removed]",
      "text/plain": [
       "<Figure size 432x288 with 1 Axes>"
      ]
     },
     "metadata": {
      "needs_background": "light"
     },
     "output_type": "display_data"
    }
   ],
   "source": [
    "x_values = NorLatDF[\"Lat\"]\n",
    "y_values = NorLatDF['Cloudiness']\n",
    "\n",
    "slope, intercept, rvalue, pvalue, stderr = stats.linregress(x_values, y_values)\n",
    "\n",
    "regression_values = x_values * slope + intercept\n",
    "\n",
    "line_eq = \"y = \" + str(round(slope,2)) + \"x + \" + str(round(intercept,2))\n",
    "\n",
    "plt.scatter(NorLatDF[\"Lat\"],NorLatDF['Cloudiness'])\n",
    "plt.plot(x_values, regression_values, \"red\")\n",
    "plt.xlabel(\"Latitude\")\n",
    "plt.ylabel(\"Cloudiness\")\n",
    "plt.title(\"Northern Latitude vs Cloudiness\")\n",
    "\n",
    "\n",
    "file = os.path.join(\"Northern_Latitude_vs_Cloudiness_lm.png\")\n",
    "plt.savefig(file)"
   ]
  },
  {
   "cell_type": "markdown",
   "metadata": {},
   "source": [
    "####  Southern Hemisphere - Cloudiness (%) vs. Latitude Linear Regression"
   ]
  },
  {
   "cell_type": "code",
   "execution_count": 16,
   "metadata": {},
   "outputs": [
    {
     "data": {
      "image/png": "[encoded data removed]",
      "text/plain": [
       "<Figure size 432x288 with 1 Axes>"
      ]
     },
     "metadata": {
      "needs_background": "light"
     },
     "output_type": "display_data"
    }
   ],
   "source": [
    "x_values = SouLatDF[\"Lat\"]\n",
    "y_values = SouLatDF['Cloudiness']\n",
    "\n",
    "slope, intercept, rvalue, pvalue, stderr = stats.linregress(x_values, y_values)\n",
    "\n",
    "regression_values = x_values * slope + intercept\n",
    "\n",
    "line_eq = \"y = \" + str(round(slope,2)) + \"x + \" + str(round(intercept,2))\n",
    "\n",
    "plt.scatter(SouLatDF[\"Lat\"],SouLatDF['Cloudiness'])\n",
    "plt.plot(x_values, regression_values, \"red\")\n",
    "plt.xlabel(\"Latitude\")\n",
    "plt.ylabel(\"Cloudiness\")\n",
    "plt.title(\"Southern Latitude vs Cloudiness\")\n",
    "\n",
    "\n",
    "file = os.path.join(\"Southern_Latitude_vs_Cloudiness_lm.png\")\n",
    "plt.savefig(file)"
   ]
  },
  {
   "cell_type": "markdown",
   "metadata": {},
   "source": [
    "####  Northern Hemisphere - Wind Speed (mph) vs. Latitude Linear Regression"
   ]
  },
  {
   "cell_type": "code",
   "execution_count": 17,
   "metadata": {},
   "outputs": [
    {
     "data": {
      "image/png": "[encoded data removed]",
      "text/plain": [
       "<Figure size 432x288 with 1 Axes>"
      ]
     },
     "metadata": {
      "needs_background": "light"
     },
     "output_type": "display_data"
    }
   ],
   "source": [
    "x_values = NorLatDF[\"Lat\"]\n",
    "y_values = NorLatDF['Wind Speed']\n",
    "\n",
    "slope, intercept, rvalue, pvalue, stderr = stats.linregress(x_values, y_values)\n",
    "\n",
    "regression_values = x_values * slope + intercept\n",
    "\n",
    "line_eq = \"y = \" + str(round(slope,2)) + \"x + \" + str(round(intercept,2))\n",
    "\n",
    "plt.scatter(NorLatDF[\"Lat\"],NorLatDF['Wind Speed'])\n",
    "plt.plot(x_values, regression_values, \"red\")\n",
    "plt.xlabel(\"Latitude\")\n",
    "plt.ylabel(\"Wind Speed\")\n",
    "plt.title(\"Northern Latitude vs Wind Speed\")\n",
    "\n",
    "\n",
    "file = os.path.join(\"Northern_Latitude_vs_Wind_Speed_lm.png\")\n",
    "plt.savefig(file)"
   ]
  },
  {
   "cell_type": "markdown",
   "metadata": {},
   "source": [
    "####  Southern Hemisphere - Wind Speed (mph) vs. Latitude Linear Regression"
   ]
  },
  {
   "cell_type": "code",
   "execution_count": 18,
   "metadata": {},
   "outputs": [
    {
     "data": {
      "image/png": "[encoded data removed]",
      "text/plain": [
       "<Figure size 432x288 with 1 Axes>"
      ]
     },
     "metadata": {
      "needs_background": "light"
     },
     "output_type": "display_data"
    }
   ],
   "source": [
    "x_values = SouLatDF[\"Lat\"]\n",
    "y_values = SouLatDF['Wind Speed']\n",
    "\n",
    "slope, intercept, rvalue, pvalue, stderr = stats.linregress(x_values, y_values)\n",
    "\n",
    "regression_values = x_values * slope + intercept\n",
    "\n",
    "line_eq = \"y = \" + str(round(slope,2)) + \"x + \" + str(round(intercept,2))\n",
    "\n",
    "plt.scatter(SouLatDF[\"Lat\"],SouLatDF['Wind Speed'])\n",
    "plt.plot(x_values, regression_values, \"red\")\n",
    "plt.xlabel(\"Latitude\")\n",
    "plt.ylabel(\"Wind Speed\")\n",
    "plt.title(\"Southern Latitude vs Wind Speed\")\n",
    "\n",
    "\n",
    "file = os.path.join(\"Southern_Latitude_vs_Wind_Speed_lm.png\")\n",
    "plt.savefig(file)"
   ]
  },
  {
   "cell_type": "code",
   "execution_count": null,
   "metadata": {},
   "outputs": [],
   "source": []
  }
 ],
 "metadata": {
  "anaconda-cloud": {},
  "kernel_info": {
   "name": "python3"
  },
  "kernelspec": {
   "display_name": "Python 3",
   "language": "python",
   "name": "python3"
  },
  "language_info": {
   "codemirror_mode": {
    "name": "ipython",
    "version": 3
   },
   "file_extension": ".py",
   "mimetype": "text/x-python",
   "name": "python",
   "nbconvert_exporter": "python",
   "pygments_lexer": "ipython3",
   "version": "3.8.3"
  },
  "latex_envs": {
   "LaTeX_envs_menu_present": true,
   "autoclose": false,
   "autocomplete": true,
   "bibliofile": "biblio.bib",
   "cite_by": "apalike",
   "current_citInitial": 1,
   "eqLabelWithNumbers": true,
   "eqNumInitial": 1,
   "hotkeys": {
    "equation": "Ctrl-E",
    "itemize": "Ctrl-I"
   },
   "labels_anchors": false,
   "latex_user_defs": false,
   "report_style_numbering": false,
   "user_envs_cfg": false
  },
  "nteract": {
   "version": "0.12.3"
  }
 },
 "nbformat": 4,
 "nbformat_minor": 4
}
